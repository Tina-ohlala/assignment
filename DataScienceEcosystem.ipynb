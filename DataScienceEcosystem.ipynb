{
 "cells": [
  {
   "cell_type": "markdown",
   "id": "133cbd37-8735-4bb7-be26-aac87744956e",
   "metadata": {},
   "source": [
    "# Data Science Tools and Ecosystem"
   ]
  },
  {
   "cell_type": "markdown",
   "id": "a3cd295e-1f2f-42e6-88c6-0b8785e6ccd9",
   "metadata": {},
   "source": [
    "# Data Science Tools and Ecosystem"
   ]
  },
  {
   "cell_type": "markdown",
   "id": "756a6e39-c04b-4460-83cc-6d1f2d79c883",
   "metadata": {},
   "source": [
    "In this notebook, Data Science Tools and Ecosystem are summarized."
   ]
  },
  {
   "cell_type": "markdown",
   "id": "a0bcfb67-70f3-4d84-b7f4-5230f74eea38",
   "metadata": {},
   "source": [
    "**Objectives:**\n",
    "\n",
    "List popular languages for Data Science\n",
    "* Python\n",
    "* R\n",
    "* SQL\n",
    "* Scala"
   ]
  },
  {
   "cell_type": "markdown",
   "id": "18f0cf49-54c7-4892-969b-b7e616a2edda",
   "metadata": {},
   "source": [
    "Some of the popular languages that Data Scientists use are:\n",
    "\n",
    "1. Python\n",
    "2. R\n",
    "3. SQL\n",
    "4. Spark"
   ]
  },
  {
   "cell_type": "markdown",
   "id": "1bcb77d0-21cf-404e-9ec2-218aa4aaa43c",
   "metadata": {},
   "source": [
    "Some of the commonly used libraries used by Data Scientists include:\n",
    "* Pandas\n",
    "* Numpy\n",
    "* Scipy\n",
    "* Scikit-Learn"
   ]
  },
  {
   "cell_type": "markdown",
   "id": "63e99345-b085-43ed-b39b-57131e881bd7",
   "metadata": {},
   "source": [
    "| Data Science Tools | \n",
    "| ------ | \n",
    "| GitHub | \n",
    "| Jupyter Notebooks | \n",
    "| RStudio IDE | \n"
   ]
  },
  {
   "cell_type": "markdown",
   "id": "99b11ce7-8980-43ac-a78f-9666c318ba76",
   "metadata": {},
   "source": [
    "### Below are a few examples of evaluating arithmetic expressions in Python"
   ]
  },
  {
   "cell_type": "code",
   "execution_count": null,
   "id": "fe0afbcf-9db2-4a68-b184-69a968f4c89e",
   "metadata": {},
   "outputs": [],
   "source": []
  },
  {
   "cell_type": "code",
   "execution_count": 2,
   "id": "7311cd7d-6cf3-4814-a44a-dbd661edcec3",
   "metadata": {},
   "outputs": [
    {
     "data": {
      "text/plain": [
       "17"
      ]
     },
     "execution_count": 2,
     "metadata": {},
     "output_type": "execute_result"
    }
   ],
   "source": [
    "#This a simple arithmetic expression to mutiply then add integers\n",
    "(3*4)+5"
   ]
  },
  {
   "cell_type": "code",
   "execution_count": 3,
   "id": "f63e7d49-6ad4-491e-b0a8-5cb1c807f4cb",
   "metadata": {},
   "outputs": [
    {
     "data": {
      "text/plain": [
       "3.3333333333333335"
      ]
     },
     "execution_count": 3,
     "metadata": {},
     "output_type": "execute_result"
    }
   ],
   "source": [
    "# This will convert 200 minutes to hours by diving by 60\n",
    "200/60"
   ]
  },
  {
   "cell_type": "markdown",
   "id": "7f5845a9-ae00-48ae-9246-e368b83a593d",
   "metadata": {},
   "source": [
    "## Author\n",
    "Anhthong Le"
   ]
  },
  {
   "cell_type": "code",
   "execution_count": null,
   "id": "3b8a87d3-0b5f-4664-815f-e749941168b7",
   "metadata": {},
   "outputs": [],
   "source": []
  }
 ],
 "metadata": {
  "kernelspec": {
   "display_name": "Python",
   "language": "python",
   "name": "conda-env-python-py"
  },
  "language_info": {
   "codemirror_mode": {
    "name": "ipython",
    "version": 3
   },
   "file_extension": ".py",
   "mimetype": "text/x-python",
   "name": "python",
   "nbconvert_exporter": "python",
   "pygments_lexer": "ipython3",
   "version": "3.7.12"
  }
 },
 "nbformat": 4,
 "nbformat_minor": 5
}
